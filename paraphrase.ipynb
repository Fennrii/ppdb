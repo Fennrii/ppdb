{
 "cells": [
  {
   "cell_type": "code",
   "execution_count": 13,
   "metadata": {},
   "outputs": [],
   "source": [
    "import psycopg2\n",
    "import pandas as pd\n",
    "import random\n",
    "import re\n"
   ]
  },
  {
   "cell_type": "code",
   "execution_count": 82,
   "metadata": {},
   "outputs": [],
   "source": [
    "def get_paraphrase(word,cursor):\n",
    "    paraphrase = cursor.execute(\"SELECT paraphrase FROM public.ppdb WHERE LOWER(phrase) ILIKE LOWER(%s) AND entailment ILIKE %s\", (' ' + word + ' ', ' '+ 'OtherRelated'))\n",
    "    results = cursor.fetchall()\n",
    "    return results\n",
    "\n",
    "def getBool():\n",
    "    boolList = [True, False, True, False]\n",
    "    randBool = random.choice(boolList)\n",
    "    return randBool\n",
    "\n",
    "\n",
    "def getIndexes(sentence):\n",
    "    wordList = sentence.split()\n",
    "    indexes_without_at = [index for index, word in enumerate(wordList) if not word.startswith('@')]\n",
    "    return wordList,indexes_without_at\n",
    "\n",
    "def paraphraseWords(wordList,indexes_without_at,cursor):\n",
    "    for i in indexes_without_at:\n",
    "        word = wordList[i]\n",
    "        paraphrase = get_paraphrase(word,cursor)\n",
    "        if paraphrase and getBool():\n",
    "            rand = random.choice(paraphrase)\n",
    "            wordList[i] = rand[0].strip()\n",
    "    return wordList\n",
    "\n",
    "def paraphrase(sentence,cursor):\n",
    "    wordList,indexes_without_at = getIndexes(sentence)\n",
    "    wordList = paraphraseWords(wordList,indexes_without_at,cursor)\n",
    "    sentence = ' '.join(wordList)\n",
    "    return sentence"
   ]
  },
  {
   "cell_type": "code",
   "execution_count": 84,
   "metadata": {},
   "outputs": [
    {
     "name": "stdout",
     "output_type": "stream",
     "text": [
      "[(' morning ',), (' greetings ',), (' yes ',), (' bonjour ',), (' greeting ',), (' goodbye ',)]\n"
     ]
    }
   ],
   "source": [
    "conn = psycopg2.connect(\n",
    "   database=\"ppdb\",\n",
    "    user='postgres',\n",
    "    password='password',\n",
    "    host='localhost',\n",
    "    port= '5432'\n",
    ")\n",
    "cursor = conn.cursor()\n",
    "test = get_paraphrase(word=\"Hello\",cursor=cursor)\n",
    "print(test)\n",
    "removableWords = [' me',' the',' a',' of']"
   ]
  },
  {
   "cell_type": "code",
   "execution_count": null,
   "metadata": {},
   "outputs": [
    {
     "name": "stdout",
     "output_type": "stream",
     "text": [
      "shown me the subjects with a diagnostic of @diagnosis\n"
     ]
    }
   ],
   "source": [
    "query = \"Show me the patients with a diagnosis of @diagnosis\"\n",
    "test = paraphrase(query,cursor)\n",
    "print(test)"
   ]
  },
  {
   "cell_type": "code",
   "execution_count": 86,
   "metadata": {},
   "outputs": [
    {
     "name": "stdout",
     "output_type": "stream",
     "text": [
      "0\n"
     ]
    },
    {
     "name": "stdout",
     "output_type": "stream",
     "text": [
      "1\n",
      "2\n",
      "3\n",
      "4\n",
      "5\n",
      "6\n",
      "7\n",
      "7\n",
      "8\n",
      "9\n",
      "9\n",
      "10\n",
      "11\n",
      "12\n",
      "13\n",
      "13\n",
      "14\n",
      "14\n",
      "15\n",
      "15\n",
      "0\n",
      "1\n",
      "2\n",
      "3\n",
      "4\n",
      "5\n",
      "6\n",
      "7\n",
      "8\n",
      "9\n",
      "10\n",
      "11\n",
      "12\n",
      "13\n"
     ]
    }
   ],
   "source": [
    "# reads from QuestionsToExpand.csv and appends to QuestionsExpanded.csv\n",
    "df = pd.read_csv('QuestionsToExpand.csv', sep=',', quotechar='\\'')\n",
    "# gets unique paraphrases for each question until 2 most recent paraphrases are not unique\n",
    "for i in range(len(df)):\n",
    "    question = df.iloc[i]['Question']\n",
    "    paraphrases = []\n",
    "    nonunique = 0\n",
    "    while len(paraphrases) < 20:\n",
    "        print(len(paraphrases))\n",
    "        paraphrased = paraphrase(question,cursor)\n",
    "        if paraphrased not in paraphrases:\n",
    "            paraphrases.append(paraphrased)\n",
    "        else:\n",
    "            index = len(paraphrases)\n",
    "            if nonunique == index:\n",
    "                break\n",
    "            nonunique = index\n",
    "    df2 = pd.DataFrame({'Question': paraphrases,'SQL': df.iloc[i]['SQL']})\n",
    "    df2.to_csv('QuestionsExpanded.csv', mode='a', header=False)\n",
    "    paraphrases = []\n",
    "    \n"
   ]
  },
  {
   "cell_type": "code",
   "execution_count": null,
   "metadata": {},
   "outputs": [],
   "source": []
  }
 ],
 "metadata": {
  "kernelspec": {
   "display_name": "base",
   "language": "python",
   "name": "python3"
  },
  "language_info": {
   "codemirror_mode": {
    "name": "ipython",
    "version": 3
   },
   "file_extension": ".py",
   "mimetype": "text/x-python",
   "name": "python",
   "nbconvert_exporter": "python",
   "pygments_lexer": "ipython3",
   "version": "3.11.5"
  }
 },
 "nbformat": 4,
 "nbformat_minor": 2
}
