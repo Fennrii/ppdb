{
 "cells": [
  {
   "cell_type": "code",
   "execution_count": 7,
   "metadata": {},
   "outputs": [],
   "source": [
    "\n",
    "import psycopg2\n",
    "import pandas as pd\n",
    " \n",
    "# # connection establishment\n",
    "# conn = psycopg2.connect(\n",
    "#    database=\"postgres\",\n",
    "#     user='postgres',\n",
    "#     password='password',\n",
    "#     host='localhost',\n",
    "#     port= '5432'\n",
    "# )\n",
    " \n",
    "# conn.autocommit = True\n",
    " \n",
    "# # Creating a cursor object\n",
    "# cursor = conn.cursor()\n",
    " \n",
    "# # query to create a database \n",
    "# sql = ''' CREATE database ppdb '''; \n",
    "# # executing above query\n",
    "# cursor.execute(sql)\n",
    "# print(\"Database has been created successfully !!\")\n",
    "\n",
    "# createTable(cursor)\n",
    "\n",
    "# parse_file('ppdb-2.0-xxxl-all',cursor)\n",
    " \n",
    "# # Closing the connection\n",
    "# conn.close()\n"
   ]
  },
  {
   "cell_type": "code",
   "execution_count": 8,
   "metadata": {},
   "outputs": [],
   "source": [
    "def get_ppdb2_score(array):\n",
    "    features = array[3].split(' ')\n",
    "    for feature in features:\n",
    "        if feature.startswith('PPDB2'):\n",
    "            return feature.split('=')[1]\n",
    "\n",
    "\n",
    "def get_ppdb1_score(array):\n",
    "    features = array[3].split(' ')\n",
    "    for feature in features:\n",
    "        if feature.startswith('PPDB1'):\n",
    "            return feature.split('=')[1]\n",
    "            \n",
    "def parse_file(file_path, cursor,conn):\n",
    "\n",
    "    # Open the file for reading\n",
    "    with open(file_path, 'r') as file:\n",
    "        # Read the file line by line\n",
    "        errorLines = []\n",
    "        count = 0\n",
    "        for line in file:\n",
    "            # Strip newline characters and split the line into columns\n",
    "            columns = line.strip().split('|||')\n",
    "            columns[0] = columns[0].replace(']','').replace('[','')\n",
    "            # print (columns)\n",
    "            p1score = get_ppdb1_score(columns)\n",
    "            # print (p1score)\n",
    "            p2score = get_ppdb2_score(columns)\n",
    "            # print (p2score)\n",
    "            # Add the parsed columns to the parsed_data list\n",
    "            # cursor.execute(\"INSERT INTO ppdb VALUES ({count}, '{columns[0]}', '{columns[1]}', '{columns[2]}', {p1score}, {p2sore}, '{columns[4]}', '{columns[5]}')\".format(count=count, columns=columns, p1score=p1score, p2sore=p2score))\n",
    "            try:\n",
    "                cursor.execute(\"INSERT INTO ppdb VALUES (%s, %s, %s, %s, %s, %s, %s, %s)\", (count, columns[0], columns[1], columns[2], p1score, p2score, columns[4], columns[5]))\n",
    "                conn.commit()\n",
    "            except Exception as e:\n",
    "                print (e)\n",
    "                errorLines.append(line)\n",
    "\n",
    "            count += 1\n",
    "            return errorLines"
   ]
  },
  {
   "cell_type": "code",
   "execution_count": 9,
   "metadata": {},
   "outputs": [],
   "source": [
    "def createTable(cursor):\n",
    "    cursor.execute(\"\"\"CREATE TABLE if not exists ppdb (id SERIAL PRIMARY KEY, lhs TEXT, phrase TEXT, paraphrase TEXT, ppdb1_score FLOAT4, ppdb2_score FLOAT4, alignment TEXT, entailment TEXT);\n",
    "                   TRUNCATE TABLE ppdb;\"\"\")"
   ]
  },
  {
   "cell_type": "code",
   "execution_count": 10,
   "metadata": {},
   "outputs": [],
   "source": [
    "conn = psycopg2.connect(\n",
    "   database=\"ppdb\",\n",
    "    user='postgres',\n",
    "    password='password',\n",
    "    host='localhost',\n",
    "    port= '5432'\n",
    ")\n",
    " \n",
    "# Creating a cursor object\n",
    "cursor = conn.cursor()\n",
    "\n",
    "createTable(cursor)\n",
    "print(\"Table has been created successfully !!\")\n",
    "\n",
    "issueLines = parse_file('ppdb-2.0-xxxl-all', cursor, conn)\n",
    "df = pd.DataFrame(issueLines)\n",
    "df.to_csv('issueLines.csv', index=False)\n",
    "print(\"Data has been parsed successfully !!\")\n",
    "cursor.close()\n",
    " \n",
    "# Closing the connection\n",
    "conn.close()"
   ]
  },
  {
   "cell_type": "code",
   "execution_count": null,
   "metadata": {},
   "outputs": [],
   "source": []
  }
 ],
 "metadata": {
  "kernelspec": {
   "display_name": "Python 3",
   "language": "python",
   "name": "python3"
  },
  "language_info": {
   "codemirror_mode": {
    "name": "ipython",
    "version": 3
   },
   "file_extension": ".py",
   "mimetype": "text/x-python",
   "name": "python",
   "nbconvert_exporter": "python",
   "pygments_lexer": "ipython3",
   "version": "3.11.5"
  }
 },
 "nbformat": 4,
 "nbformat_minor": 2
}
