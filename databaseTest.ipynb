{
 "cells": [
  {
   "cell_type": "code",
   "execution_count": 15,
   "metadata": {},
   "outputs": [
    {
     "ename": "DuplicateDatabase",
     "evalue": "database \"ppdb\" already exists\n",
     "output_type": "error",
     "traceback": [
      "\u001b[0;31m---------------------------------------------------------------------------\u001b[0m",
      "\u001b[0;31mDuplicateDatabase\u001b[0m                         Traceback (most recent call last)",
      "\u001b[1;32m/home/andrew/Documents/ppdb testing/databaseTest.ipynb Cell 1\u001b[0m line \u001b[0;36m2\n\u001b[1;32m     <a href='vscode-notebook-cell:/home/andrew/Documents/ppdb%20testing/databaseTest.ipynb#W0sZmlsZQ%3D%3D?line=17'>18</a>\u001b[0m sql \u001b[39m=\u001b[39m \u001b[39m'''\u001b[39m\u001b[39m CREATE database ppdb \u001b[39m\u001b[39m'''\u001b[39m; \n\u001b[1;32m     <a href='vscode-notebook-cell:/home/andrew/Documents/ppdb%20testing/databaseTest.ipynb#W0sZmlsZQ%3D%3D?line=18'>19</a>\u001b[0m \u001b[39m# executing above query\u001b[39;00m\n\u001b[0;32m---> <a href='vscode-notebook-cell:/home/andrew/Documents/ppdb%20testing/databaseTest.ipynb#W0sZmlsZQ%3D%3D?line=19'>20</a>\u001b[0m cursor\u001b[39m.\u001b[39mexecute(sql)\n\u001b[1;32m     <a href='vscode-notebook-cell:/home/andrew/Documents/ppdb%20testing/databaseTest.ipynb#W0sZmlsZQ%3D%3D?line=20'>21</a>\u001b[0m \u001b[39mprint\u001b[39m(\u001b[39m\"\u001b[39m\u001b[39mDatabase has been created successfully !!\u001b[39m\u001b[39m\"\u001b[39m)\n\u001b[1;32m     <a href='vscode-notebook-cell:/home/andrew/Documents/ppdb%20testing/databaseTest.ipynb#W0sZmlsZQ%3D%3D?line=22'>23</a>\u001b[0m createTable(cursor)\n",
      "\u001b[0;31mDuplicateDatabase\u001b[0m: database \"ppdb\" already exists\n"
     ]
    }
   ],
   "source": [
    "\n",
    "import psycopg2\n",
    " \n",
    "# connection establishment\n",
    "conn = psycopg2.connect(\n",
    "   database=\"postgres\",\n",
    "    user='postgres',\n",
    "    password='password',\n",
    "    host='localhost',\n",
    "    port= '5432'\n",
    ")\n",
    " \n",
    "conn.autocommit = True\n",
    " \n",
    "# Creating a cursor object\n",
    "cursor = conn.cursor()\n",
    " \n",
    "# query to create a database \n",
    "sql = ''' CREATE database ppdb '''; \n",
    "# executing above query\n",
    "cursor.execute(sql)\n",
    "print(\"Database has been created successfully !!\")\n",
    "\n",
    "createTable(cursor)\n",
    "\n",
    "parse_file('ppdb-2.0-xxxl-all',cursor)\n",
    " \n",
    "# Closing the connection\n",
    "conn.close()\n"
   ]
  },
  {
   "cell_type": "code",
   "execution_count": 43,
   "metadata": {},
   "outputs": [],
   "source": [
    "def parse_file(file_path, cursor):\n",
    "\n",
    "    # Open the file for reading\n",
    "    with open(file_path, 'r') as file:\n",
    "        # Read the file line by line\n",
    "        count = 0\n",
    "        for line in file:\n",
    "            # Strip newline characters and split the line into columns\n",
    "            columns = line.strip().split('|||')\n",
    "            columns[0] = columns[0].replace(']','').replace('[','')\n",
    "            print (columns)\n",
    "            # Add the parsed columns to the parsed_data list\n",
    "            cursor.execute(\"INSERT INTO ppdb VALUES ({count}, {columns[0]}, {columns[1]}, {columns[2]}, {columns[3]}, {columns[4]}, {columns[5]})\".format(count=count, columns=columns))\n",
    "            count += 1"
   ]
  },
  {
   "cell_type": "code",
   "execution_count": 44,
   "metadata": {},
   "outputs": [],
   "source": [
    "def createTable(cursor):\n",
    "    cursor.execute(\"\"\"CREATE TABLE if not exists ppdb (id SERIAL PRIMARY KEY, lhs TEXT, phrase TEXT, paraphrase TEXT, features TEXT, alignment TEXT, entailment TEXT);\n",
    "                   TRUNCATE TABLE ppdb;\"\"\")"
   ]
  },
  {
   "cell_type": "code",
   "execution_count": 45,
   "metadata": {},
   "outputs": [
    {
     "name": "stdout",
     "output_type": "stream",
     "text": [
      "Table has been created successfully !!\n",
      "['NN ', ' transplant ', ' transplantation ', ' PPDB2.0Score=5.24981 PPDB1.0Score=3.295900 -logp(LHS|e1)=0.18597 -logp(LHS|e2)=0.14031 -logp(e1|LHS)=11.83583 -logp(e1|e2)=1.80507 -logp(e1|e2,LHS)=1.46728 -logp(e2|LHS)=11.47593 -logp(e2|e1)=1.49083 -logp(e2|e1,LHS)=1.10738 AGigaSim=0.63439 Abstract=0 Adjacent=0 CharCountDiff=5 CharLogCR=0.40547 ContainsX=0 Equivalence=0.371472 Exclusion=0.000344 GlueRule=0 GoogleNgramSim=0.03067 Identity=0 Independent=0.078161 Lex(e1|e2)=9.64663 Lex(e2|e1)=59.48919 Lexical=1 LogCount=4.67283 MVLSASim=NA Monotonic=1 OtherRelated=0.372735 PhrasePenalty=1 RarityPenalty=0 ForwardEntailment=0.177287 SourceTerminalsButNoTarget=0 SourceWords=1 TargetComplexity=0.98821 TargetFormality=0.98464 TargetTerminalsButNoSource=0 TargetWords=1 UnalignedSource=0 UnalignedTarget=0 WordCountDiff=0 WordLenDiff=5.00000 WordLogCR=0 ', ' 0-0 ', ' OtherRelated']\n"
     ]
    },
    {
     "ename": "SyntaxError",
     "evalue": "trailing junk after numeric literal at or near \".0S\"\nLINE 1: ...S (0, NN ,  transplant ,  transplantation ,  PPDB2.0Score=5....\n                                                             ^\n",
     "output_type": "error",
     "traceback": [
      "\u001b[0;31m---------------------------------------------------------------------------\u001b[0m",
      "\u001b[0;31mSyntaxError\u001b[0m                               Traceback (most recent call last)",
      "\u001b[1;32m/home/andrew/Documents/ppdb testing/databaseTest.ipynb Cell 4\u001b[0m line \u001b[0;36m1\n\u001b[1;32m     <a href='vscode-notebook-cell:/home/andrew/Documents/ppdb%20testing/databaseTest.ipynb#W3sZmlsZQ%3D%3D?line=13'>14</a>\u001b[0m createTable(cursor)\n\u001b[1;32m     <a href='vscode-notebook-cell:/home/andrew/Documents/ppdb%20testing/databaseTest.ipynb#W3sZmlsZQ%3D%3D?line=14'>15</a>\u001b[0m \u001b[39mprint\u001b[39m(\u001b[39m\"\u001b[39m\u001b[39mTable has been created successfully !!\u001b[39m\u001b[39m\"\u001b[39m)\n\u001b[0;32m---> <a href='vscode-notebook-cell:/home/andrew/Documents/ppdb%20testing/databaseTest.ipynb#W3sZmlsZQ%3D%3D?line=16'>17</a>\u001b[0m parse_file(\u001b[39m'\u001b[39m\u001b[39mppdb-2.0-xxxl-all\u001b[39m\u001b[39m'\u001b[39m,cursor)\n\u001b[1;32m     <a href='vscode-notebook-cell:/home/andrew/Documents/ppdb%20testing/databaseTest.ipynb#W3sZmlsZQ%3D%3D?line=17'>18</a>\u001b[0m \u001b[39mprint\u001b[39m(\u001b[39m\"\u001b[39m\u001b[39mData has been parsed successfully !!\u001b[39m\u001b[39m\"\u001b[39m)\n\u001b[1;32m     <a href='vscode-notebook-cell:/home/andrew/Documents/ppdb%20testing/databaseTest.ipynb#W3sZmlsZQ%3D%3D?line=19'>20</a>\u001b[0m \u001b[39m# Closing the connection\u001b[39;00m\n",
      "\u001b[1;32m/home/andrew/Documents/ppdb testing/databaseTest.ipynb Cell 4\u001b[0m line \u001b[0;36m1\n\u001b[1;32m     <a href='vscode-notebook-cell:/home/andrew/Documents/ppdb%20testing/databaseTest.ipynb#W3sZmlsZQ%3D%3D?line=10'>11</a>\u001b[0m \u001b[39mprint\u001b[39m (columns)\n\u001b[1;32m     <a href='vscode-notebook-cell:/home/andrew/Documents/ppdb%20testing/databaseTest.ipynb#W3sZmlsZQ%3D%3D?line=11'>12</a>\u001b[0m \u001b[39m# Add the parsed columns to the parsed_data list\u001b[39;00m\n\u001b[0;32m---> <a href='vscode-notebook-cell:/home/andrew/Documents/ppdb%20testing/databaseTest.ipynb#W3sZmlsZQ%3D%3D?line=12'>13</a>\u001b[0m cursor\u001b[39m.\u001b[39mexecute(\u001b[39m\"\u001b[39m\u001b[39mINSERT INTO ppdb VALUES (\u001b[39m\u001b[39m{count}\u001b[39;00m\u001b[39m, \u001b[39m\u001b[39m{columns[0]}\u001b[39;00m\u001b[39m, \u001b[39m\u001b[39m{columns[1]}\u001b[39;00m\u001b[39m, \u001b[39m\u001b[39m{columns[2]}\u001b[39;00m\u001b[39m, \u001b[39m\u001b[39m{columns[3]}\u001b[39;00m\u001b[39m, \u001b[39m\u001b[39m{columns[4]}\u001b[39;00m\u001b[39m, \u001b[39m\u001b[39m{columns[5]}\u001b[39;00m\u001b[39m)\u001b[39m\u001b[39m\"\u001b[39m\u001b[39m.\u001b[39mformat(count\u001b[39m=\u001b[39mcount, columns\u001b[39m=\u001b[39mcolumns))\n\u001b[1;32m     <a href='vscode-notebook-cell:/home/andrew/Documents/ppdb%20testing/databaseTest.ipynb#W3sZmlsZQ%3D%3D?line=13'>14</a>\u001b[0m count \u001b[39m+\u001b[39m\u001b[39m=\u001b[39m \u001b[39m1\u001b[39m\n",
      "\u001b[0;31mSyntaxError\u001b[0m: trailing junk after numeric literal at or near \".0S\"\nLINE 1: ...S (0, NN ,  transplant ,  transplantation ,  PPDB2.0Score=5....\n                                                             ^\n"
     ]
    }
   ],
   "source": [
    "conn = psycopg2.connect(\n",
    "   database=\"ppdb\",\n",
    "    user='postgres',\n",
    "    password='password',\n",
    "    host='localhost',\n",
    "    port= '5432'\n",
    ")\n",
    " \n",
    "conn.autocommit = True\n",
    " \n",
    "# Creating a cursor object\n",
    "cursor = conn.cursor()\n",
    "\n",
    "createTable(cursor)\n",
    "print(\"Table has been created successfully !!\")\n",
    "\n",
    "parse_file('ppdb-2.0-xxxl-all',cursor)\n",
    "print(\"Data has been parsed successfully !!\")\n",
    " \n",
    "# Closing the connection\n",
    "conn.close()"
   ]
  },
  {
   "cell_type": "code",
   "execution_count": null,
   "metadata": {},
   "outputs": [],
   "source": []
  }
 ],
 "metadata": {
  "kernelspec": {
   "display_name": "Python 3",
   "language": "python",
   "name": "python3"
  },
  "language_info": {
   "codemirror_mode": {
    "name": "ipython",
    "version": 3
   },
   "file_extension": ".py",
   "mimetype": "text/x-python",
   "name": "python",
   "nbconvert_exporter": "python",
   "pygments_lexer": "ipython3",
   "version": "3.11.5"
  }
 },
 "nbformat": 4,
 "nbformat_minor": 2
}
